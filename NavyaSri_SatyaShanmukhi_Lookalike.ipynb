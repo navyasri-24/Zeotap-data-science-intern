{
  "nbformat": 4,
  "nbformat_minor": 0,
  "metadata": {
    "colab": {
      "provenance": []
    },
    "kernelspec": {
      "name": "python3",
      "display_name": "Python 3"
    },
    "language_info": {
      "name": "python"
    }
  },
  "cells": [
    {
      "cell_type": "code",
      "execution_count": 1,
      "metadata": {
        "id": "usqRDvfYhYnA"
      },
      "outputs": [],
      "source": [
        "import pandas as pd\n",
        "from sklearn.preprocessing import StandardScaler\n",
        "from sklearn.metrics.pairwise import cosine_similarity\n"
      ]
    },
    {
      "cell_type": "code",
      "source": [
        "customers = pd.read_csv('Customers.csv')\n",
        "transactions = pd.read_csv('Transactions.csv')\n",
        "products = pd.read_csv('Products.csv')"
      ],
      "metadata": {
        "id": "YR5vIfCUhwH8"
      },
      "execution_count": 2,
      "outputs": []
    },
    {
      "cell_type": "code",
      "source": [
        "# Merge transactions with customer and product data\n",
        "merged_df = transactions.merge(customers, on='CustomerID').merge(products, on='ProductID')\n"
      ],
      "metadata": {
        "id": "5__NdnXYhzDl"
      },
      "execution_count": 3,
      "outputs": []
    },
    {
      "cell_type": "code",
      "source": [
        "# Check the columns of the merged DataFrame\n",
        "print(merged_df.columns)\n"
      ],
      "metadata": {
        "colab": {
          "base_uri": "https://localhost:8080/"
        },
        "id": "F6VtUpFyh_dw",
        "outputId": "e781c8d8-54c1-44b6-f39f-3a7a36bf4cab"
      },
      "execution_count": 5,
      "outputs": [
        {
          "output_type": "stream",
          "name": "stdout",
          "text": [
            "Index(['TransactionID', 'CustomerID', 'ProductID', 'TransactionDate',\n",
            "       'Quantity', 'TotalValue', 'Price_x', 'CustomerName', 'Region',\n",
            "       'SignupDate', 'ProductName', 'Category', 'Price_y'],\n",
            "      dtype='object')\n"
          ]
        }
      ]
    },
    {
      "cell_type": "code",
      "source": [
        "# Aggregating transaction data per customer with the correct column names\n",
        "customer_features = merged_df.groupby('CustomerID').agg({\n",
        "    'TotalValue': 'sum',\n",
        "    'Quantity': 'sum',\n",
        "    'Price_x': 'mean',  # Update this if the correct column name is 'Price_x' (from Products.csv)\n",
        "    'Category': lambda x: x.mode()[0],  # Most common category\n",
        "    'Region': lambda x: x.mode()[0]  # Most common region\n",
        "}).reset_index()\n"
      ],
      "metadata": {
        "id": "8ylMlMpsh1ll"
      },
      "execution_count": 8,
      "outputs": []
    },
    {
      "cell_type": "code",
      "source": [
        "# Encoding categorical features (Category, Region)\n",
        "customer_features = pd.get_dummies(customer_features, columns=['Category', 'Region'], drop_first=True)\n"
      ],
      "metadata": {
        "id": "s7TaAHhnh327"
      },
      "execution_count": 9,
      "outputs": []
    },
    {
      "cell_type": "code",
      "source": [
        "# Standardizing numerical features\n",
        "scaler = StandardScaler()\n",
        "customer_features_scaled = scaler.fit_transform(customer_features.drop(columns=['CustomerID']))\n"
      ],
      "metadata": {
        "id": "0NC1_C_ciQub"
      },
      "execution_count": 10,
      "outputs": []
    },
    {
      "cell_type": "code",
      "source": [
        "# Compute similarity using cosine similarity\n",
        "similarity_matrix = cosine_similarity(customer_features_scaled)\n"
      ],
      "metadata": {
        "id": "_junjnZ7iSiI"
      },
      "execution_count": 11,
      "outputs": []
    },
    {
      "cell_type": "code",
      "source": [
        "# Function to get top 3 similar customers\n",
        "def get_top_3_lookalikes(customer_id, customer_features_df, similarity_matrix):\n",
        "    index = customer_features_df[customer_features_df['CustomerID'] == customer_id].index[0]\n",
        "    sim_scores = list(enumerate(similarity_matrix[index]))\n",
        "    sim_scores = sorted(sim_scores, key=lambda x: x[1], reverse=True)\n",
        "    top_3_customers = [(customer_features_df.iloc[i[0]]['CustomerID'], round(i[1], 2)) for i in sim_scores[1:4]]\n",
        "    return top_3_customers\n"
      ],
      "metadata": {
        "id": "WUcGIAHNiUjO"
      },
      "execution_count": 12,
      "outputs": []
    },
    {
      "cell_type": "code",
      "source": [
        "# Generate lookalike recommendations for the first 20 customers\n",
        "lookalike_results = {}\n",
        "\n",
        "for cust_id in customers['CustomerID'][:20]:\n",
        "    lookalike_results[cust_id] = get_top_3_lookalikes(cust_id, customer_features, similarity_matrix)\n"
      ],
      "metadata": {
        "id": "xZjGZLxwiWQQ"
      },
      "execution_count": 13,
      "outputs": []
    },
    {
      "cell_type": "code",
      "source": [
        "# Save results to Lookalike.csv\n",
        "lookalike_df = pd.DataFrame.from_dict(lookalike_results, orient='index', columns=['Lookalike1', 'Lookalike2', 'Lookalike3'])\n",
        "lookalike_df.to_csv('NavyaSri_SatyaShanmukhi_Lookalike.csv')\n",
        "\n",
        "print(\"Lookalike recommendations saved to FirstName_LastName_Lookalike.csv\")\n"
      ],
      "metadata": {
        "colab": {
          "base_uri": "https://localhost:8080/"
        },
        "id": "EfuXc3FliYE7",
        "outputId": "9f408486-6920-43f9-dcb8-271583c19a9a"
      },
      "execution_count": 15,
      "outputs": [
        {
          "output_type": "stream",
          "name": "stdout",
          "text": [
            "Lookalike recommendations saved to FirstName_LastName_Lookalike.csv\n"
          ]
        }
      ]
    },
    {
      "cell_type": "code",
      "source": [],
      "metadata": {
        "id": "cGKPJkSliZxq"
      },
      "execution_count": null,
      "outputs": []
    }
  ]
}